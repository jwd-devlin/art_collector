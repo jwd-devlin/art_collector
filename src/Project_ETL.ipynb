{
 "cells": [
  {
   "cell_type": "markdown",
   "id": "varied-embassy",
   "metadata": {},
   "source": [
    "# Run Etl"
   ]
  },
  {
   "cell_type": "code",
   "execution_count": null,
   "id": "smart-swift",
   "metadata": {},
   "outputs": [],
   "source": [
    "from src.main.data_pipeline.met_art_etl import MetaArtETL\n",
    "from src.main.data_pipeline.data_extraction.met_art_extractor import MetArtExtractor\n",
    "from src.main.data_pipeline.data_transform.met_art_transform import MetArtTransform\n",
    "from src.main.data_pipeline.storage.art_storage import ArtStorage"
   ]
  },
  {
   "cell_type": "markdown",
   "id": "continued-cancellation",
   "metadata": {},
   "source": [
    "# Quick Run for one 10,000 batch\n",
    "\n",
    "## !! Make sure Met Musem data is download to : \"resources/MetObjects.txt\"\n",
    "\n",
    "- Logging file will be created: src/debug.log\n"
   ]
  },
  {
   "cell_type": "code",
   "execution_count": null,
   "id": "english-appearance",
   "metadata": {},
   "outputs": [],
   "source": [
    "location = \"resources/MetObjects.txt\"\n",
    "MetaArtETL(MetArtExtractor(), MetArtTransform(),ArtStorage(user= \"arty\", password=\"pwd\",\n",
    "                                             host=\"postgres\")).execute(location, tester = True)"
   ]
  },
  {
   "cell_type": "markdown",
   "id": "constitutional-deputy",
   "metadata": {},
   "source": [
    "# Run the full thing:"
   ]
  },
  {
   "cell_type": "code",
   "execution_count": null,
   "id": "accessible-favor",
   "metadata": {},
   "outputs": [],
   "source": [
    "!python ./main/data_pipeline/met_art_etl.py"
   ]
  },
  {
   "cell_type": "code",
   "execution_count": null,
   "id": "minute-referral",
   "metadata": {},
   "outputs": [],
   "source": []
  }
 ],
 "metadata": {
  "kernelspec": {
   "display_name": "Python 3",
   "language": "python",
   "name": "python3"
  },
  "language_info": {
   "codemirror_mode": {
    "name": "ipython",
    "version": 3
   },
   "file_extension": ".py",
   "mimetype": "text/x-python",
   "name": "python",
   "nbconvert_exporter": "python",
   "pygments_lexer": "ipython3",
   "version": "3.8.8"
  }
 },
 "nbformat": 4,
 "nbformat_minor": 5
}
