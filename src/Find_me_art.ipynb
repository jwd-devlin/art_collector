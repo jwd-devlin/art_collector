{
 "cells": [
  {
   "cell_type": "code",
   "execution_count": null,
   "metadata": {},
   "outputs": [],
   "source": [
    "from src.main.data_pipeline.storage.art_storage import ArtStorage\n",
    "from src.main.art_processor.art_processor import ArtProcessor"
   ]
  },
  {
   "cell_type": "code",
   "execution_count": null,
   "metadata": {
    "pycharm": {
     "name": "#%%\n"
    }
   },
   "outputs": [],
   "source": [
    "store = ArtStorage(user= \"arty\", password=\"pwd\", host=\"postgres\")\n",
    "art_finder = ArtProcessor(store)"
   ]
  },
  {
   "cell_type": "markdown",
   "metadata": {},
   "source": [
    "# Check fit of the art by providing the known object id and you space dimensions.\n",
    "\n",
    "- Warning: unknown dimensions of art will are assumed to fit within your space. "
   ]
  },
  {
   "cell_type": "markdown",
   "metadata": {},
   "source": [
    "## Example 1: (Spoiler: should fit)\n",
    "Steve is super into Niagara Falls wants the photograph \"Burning Spring, Lord Dufferin Isles, Canada\": Object id 287477\n",
    "\n",
    "He has ethe space length: 40, width: 40, thickness : 20."
   ]
  },
  {
   "cell_type": "code",
   "execution_count": null,
   "metadata": {},
   "outputs": [],
   "source": [
    "object_id = 287477\n",
    "steves_dimensions = {'art_length': 40, 'art_width': 40, 'art_height': 60}\n",
    "art_finder.does_it_fit(object_id, steves_dimensions)"
   ]
  },
  {
   "cell_type": "markdown",
   "metadata": {},
   "source": [
    "# Example 2: (Spoiler: It shouldnt fit)\n",
    "\n",
    "Alex wants a French probably from Paris armchair: Object id  209222"
   ]
  },
  {
   "cell_type": "code",
   "execution_count": null,
   "metadata": {},
   "outputs": [],
   "source": [
    "object_id = 209222\n",
    "alexs_dimensions = {'art_length': 90, 'art_width': 90, 'art_height': 90}\n",
    "art_finder.does_it_fit(object_id, alexs_dimensions)"
   ]
  },
  {
   "cell_type": "code",
   "execution_count": null,
   "metadata": {},
   "outputs": [],
   "source": []
  }
 ],
 "metadata": {
  "kernelspec": {
   "display_name": "Python 3",
   "language": "python",
   "name": "python3"
  },
  "language_info": {
   "codemirror_mode": {
    "name": "ipython",
    "version": 3
   },
   "file_extension": ".py",
   "mimetype": "text/x-python",
   "name": "python",
   "nbconvert_exporter": "python",
   "pygments_lexer": "ipython3",
   "version": "3.8.8"
  }
 },
 "nbformat": 4,
 "nbformat_minor": 1
}
